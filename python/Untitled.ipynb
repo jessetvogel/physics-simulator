{
 "cells": [
  {
   "cell_type": "code",
   "execution_count": 87,
   "id": "enhanced-anaheim",
   "metadata": {},
   "outputs": [],
   "source": [
    "import sympy as sp"
   ]
  },
  {
   "cell_type": "code",
   "execution_count": 88,
   "id": "moral-thickness",
   "metadata": {},
   "outputs": [],
   "source": [
    "x, dx = sp.symbols('x \\\\dot{x}')\n",
    "m, g = sp.symbols('m g')"
   ]
  },
  {
   "cell_type": "code",
   "execution_count": 89,
   "id": "portuguese-samba",
   "metadata": {},
   "outputs": [],
   "source": [
    "KE = m * dx**2 / 2\n",
    "PE = m*g*x\n",
    "L = KE - PE "
   ]
  },
  {
   "cell_type": "code",
   "execution_count": 90,
   "id": "reliable-disposal",
   "metadata": {},
   "outputs": [
    {
     "data": {
      "text/latex": [
       "$\\displaystyle \\frac{\\dot{x}^{2} m}{2} - g m x$"
      ],
      "text/plain": [
       "\\dot{x}**2*m/2 - g*m*x"
      ]
     },
     "execution_count": 90,
     "metadata": {},
     "output_type": "execute_result"
    }
   ],
   "source": [
    "L"
   ]
  },
  {
   "cell_type": "code",
   "execution_count": 104,
   "id": "brave-texture",
   "metadata": {},
   "outputs": [],
   "source": [
    "def time_derivative(f, variables):\n",
    "    if f.is_Add:\n",
    "        return sp.Add(*[ time_derivative(a, variables) for a in f.args ])\n",
    "    \n",
    "    if f.is_Mul:\n",
    "        return sp.Add(*[ f / a * time_derivative(a, variables) for a in f.args ])\n",
    "    \n",
    "    if f.is_Pow:\n",
    "        return f.exp * f.base ** (f.exp - 1) * time_derivative(f.base, variables)\n",
    "    \n",
    "    if f.is_Symbol:\n",
    "        if str(f).startswith('\\\\dot{'):\n",
    "            g = sp.Symbol(str(f)[5:-1])\n",
    "            if g in variables:\n",
    "                return sp.Symbol(f'\\\\ddot{{{g}}}')\n",
    "        if f in variables:\n",
    "            return sp.Symbol(f'\\\\dot{{{f}}}')\n",
    "        else:\n",
    "            return 0\n",
    "        \n",
    "    if f.is_Number:\n",
    "        return 0\n",
    "    \n",
    "    print(f'Unsupported: {f}')"
   ]
  },
  {
   "cell_type": "code",
   "execution_count": 105,
   "id": "dated-physics",
   "metadata": {},
   "outputs": [],
   "source": [
    "def euler_lagrange(L, xs):\n",
    "    eqs = []\n",
    "    for x in xs:\n",
    "        v = sp.Symbol(f'\\\\dot{{{x}}}')\n",
    "        dL_dx = L.diff(x)\n",
    "        dL_dv = L.diff(v)\n",
    "        ddL_dv_dt = time_derivative(dL_dv, [ x ])\n",
    "        eqs.append(dL_dx - ddL_dv_dt)\n",
    "\n",
    "    return eqs"
   ]
  },
  {
   "cell_type": "code",
   "execution_count": 121,
   "id": "hollow-jewel",
   "metadata": {},
   "outputs": [],
   "source": [
    "def linear_system(L, xs):\n",
    "    eqs = euler_lagrange(L, xs)\n",
    "    \n",
    "    accs = [ sp.Symbol(f'\\\\ddot{{{x}}}') for x in xs ]\n",
    "    \n",
    "    polys = [ sp.Poly(eq, accs) for eq in eqs ]\n",
    "        \n",
    "    A = sp.Matrix([ [ t[1] for t in poly.terms()[0:-1] ] for poly in polys ])\n",
    "    b = sp.Matrix([[ poly.terms()[-1][1] ] for poly in polys ])\n",
    "\n",
    "    return A, b"
   ]
  },
  {
   "cell_type": "code",
   "execution_count": 123,
   "id": "adjacent-dictionary",
   "metadata": {},
   "outputs": [],
   "source": [
    "A, b = linear_system(L, [ x ])"
   ]
  },
  {
   "cell_type": "code",
   "execution_count": 125,
   "id": "provincial-theme",
   "metadata": {},
   "outputs": [
    {
     "data": {
      "text/latex": [
       "$\\displaystyle \\left[\\begin{matrix}- m\\end{matrix}\\right]$"
      ],
      "text/plain": [
       "Matrix([[-m]])"
      ]
     },
     "execution_count": 125,
     "metadata": {},
     "output_type": "execute_result"
    }
   ],
   "source": [
    "A"
   ]
  },
  {
   "cell_type": "code",
   "execution_count": 126,
   "id": "moved-content",
   "metadata": {},
   "outputs": [
    {
     "data": {
      "text/latex": [
       "$\\displaystyle \\left[\\begin{matrix}- g m\\end{matrix}\\right]$"
      ],
      "text/plain": [
       "Matrix([[-g*m]])"
      ]
     },
     "execution_count": 126,
     "metadata": {},
     "output_type": "execute_result"
    }
   ],
   "source": [
    "b"
   ]
  },
  {
   "cell_type": "code",
   "execution_count": 128,
   "id": "brown-tissue",
   "metadata": {},
   "outputs": [
    {
     "data": {
      "text/latex": [
       "$\\displaystyle \\left\\{\\left( g\\right)\\right\\}$"
      ],
      "text/plain": [
       "FiniteSet((g,))"
      ]
     },
     "execution_count": 128,
     "metadata": {},
     "output_type": "execute_result"
    }
   ],
   "source": [
    "sp.linsolve((A, b))"
   ]
  },
  {
   "cell_type": "code",
   "execution_count": null,
   "id": "personalized-christopher",
   "metadata": {},
   "outputs": [],
   "source": []
  }
 ],
 "metadata": {
  "kernelspec": {
   "display_name": "Python 3",
   "language": "python",
   "name": "python3"
  },
  "language_info": {
   "codemirror_mode": {
    "name": "ipython",
    "version": 3
   },
   "file_extension": ".py",
   "mimetype": "text/x-python",
   "name": "python",
   "nbconvert_exporter": "python",
   "pygments_lexer": "ipython3",
   "version": "3.9.8"
  }
 },
 "nbformat": 4,
 "nbformat_minor": 5
}
